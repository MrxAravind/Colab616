{
 "cells": [
  {
   "cell_type": "code",
   "execution_count": null,
   "metadata": {
    "cellView": "form",
    "colab": {},
    "colab_type": "code",
    "id": "R4QBua4xKN2W"
   },
   "outputs": [],
   "source": [
    "#@title Subscribe : BoostUpStation (Always give Credits)"
   ]
  },
  {
   "cell_type": "code",
   "execution_count": null,
   "metadata": {
    "cellView": "form",
    "colab": {},
    "colab_type": "code",
    "id": "_hpsYhc5hR0o"
   },
   "outputs": [],
   "source": [
    "#@title  <= RUN THIS CELL TO MOUNT YOUR DRIVE (For which you want the size of folders in)\n",
    "from google.colab import drive\n",
    "drive.mount('/content/drive', force_remount=True)"
   ]
  },
  {
   "cell_type": "code",
   "execution_count": null,
   "metadata": {
    "cellView": "form",
    "colab": {},
    "colab_type": "code",
    "id": "oTpJougMtrE1"
   },
   "outputs": [],
   "source": [
    "#@title <= RUN THIS CELL TO get the individual & total size of all folders inside the location you just put\n",
    "\n",
    "import os\n",
    "\n",
    "Location = \"/content/drive/My Drive\" #@param {type:\"string\"}\n",
    "\n",
    "os.chdir(Location)\n",
    "\n",
    "!echo Subscribe BoostUpStation\n",
    "!echo Here are the size of files, folders inside the given location\n",
    "!echo\n",
    "# !echo $(du -shc -- *)\n",
    "!du -shc -- *"
   ]
  },
  {
   "cell_type": "code",
   "execution_count": null,
   "metadata": {
    "colab": {},
    "colab_type": "code",
    "id": "v5kc3cWhHN8O"
   },
   "outputs": [],
   "source": [
    "#@title <= RUN THIS CELL TO UnMount the Google Drive\n",
    "\n",
    "from google.colab import drive\n",
    "drive.flush_and_unmount()\n"
   ]
  }
 ],
 "metadata": {
  "colab": {
   "collapsed_sections": [],
   "name": "GDrive_Folders_Size_BoostUpStation.ipynb",
   "provenance": [],
   "toc_visible": true
  },
  "kernelspec": {
   "display_name": "Python 3",
   "language": "python",
   "name": "python3"
  },
  "language_info": {
   "codemirror_mode": {
    "name": "ipython",
    "version": 3
   },
   "file_extension": ".py",
   "mimetype": "text/x-python",
   "name": "python",
   "nbconvert_exporter": "python",
   "pygments_lexer": "ipython3",
   "version": "3.7.7"
  }
 },
 "nbformat": 4,
 "nbformat_minor": 4
}
