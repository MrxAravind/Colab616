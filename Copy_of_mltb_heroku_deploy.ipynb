{
  "nbformat": 4,
  "nbformat_minor": 0,
  "metadata": {
    "colab": {
      "provenance": [],
      "include_colab_link": true
    },
    "kernelspec": {
      "name": "python3",
      "display_name": "Python 3"
    },
    "language_info": {
      "name": "python"
    }
  },
  "cells": [
    {
      "cell_type": "markdown",
      "metadata": {
        "id": "view-in-github",
        "colab_type": "text"
      },
      "source": [
        "<a href=\"https://colab.research.google.com/github/MrxAravind/Colab616/blob/main/Copy_of_mltb_heroku_deploy.ipynb\" target=\"_parent\"><img src=\"https://colab.research.google.com/assets/colab-badge.svg\" alt=\"Open In Colab\"/></a>"
      ]
    },
    {
      "cell_type": "code",
      "execution_count": null,
      "metadata": {
        "cellView": "form",
        "id": "3vxKZQk6wdhW"
      },
      "outputs": [],
      "source": [
        "#@title <center>MLTB HEROKU</center><br>\n",
        "#@markdown <br><center><img src='https://graph.org/file/3c3aaf3e715f3596d0dd0.jpg'  height=\"200\" width=\"400\" alt=\"WZML-X-logo\"/></center>\n",
        "\n",
        "#@markdown ---\n",
        "\n",
        "#@markdown 🔗 **Repo :** https://github.com/BalaPriyan/HK-MLTB <br>\n",
        "#@markdown 🤖 **Version :** _v1.0.0-hk_ <br>\n",
        "#@markdown ☢️ **Colab Version :** _v1.0_ <br>\n",
        "#@markdown 📄 **Channel :** https://t.me/mltb_official_channel<br>\n",
        "#@markdown 🫂 **Community :** https://t.me/mltb_official_support<br>\n",
        "\n",
        "#@markdown ---\n",
        "#@markdown <br><b>Deploy MLTB in Heroku using Google Colab</b><br>"
      ]
    },
    {
      "cell_type": "code",
      "source": [
        "#@title <center><h3>***Heroku Login***</h3></center><br>\n",
        "\n",
        "#@markdown ---\n",
        "\n",
        "Heroku_Email = \"\" #@param {type:\"string\"}\n",
        "Heroku_API = \"\" #@param {type:\"string\"}\n",
        "\n",
        "#@markdown ---\n",
        "\n",
        "!curl -s https://cli-assets.heroku.com/install.sh | sh\n",
        "\n",
        "from IPython.display import HTML, clear_output\n",
        "clear_output()\n",
        "print(\"Heroku CLI Installed !\")\n",
        "\n",
        "if not all([Heroku_Email, Heroku_API]):\n",
        "    raise ValueError(\"Please fill in all Mandatory Variables.\")\n",
        "\n",
        "from os import path as ospath, chmod\n",
        "\n",
        "netrc_path = ospath.expanduser(\"~/.netrc\")\n",
        "\n",
        "netrc_creds = f'''machine api.heroku.com\n",
        "  login {Heroku_Email}\n",
        "  password {Heroku_API}\n",
        "machine git.heroku.com\n",
        "  login {Heroku_Email}\n",
        "  password {Heroku_API}'''\n",
        "with open(netrc_path, \"w\") as netrc_file:\n",
        "    netrc_file.write(netrc_creds)\n",
        "\n",
        "chmod(netrc_path, 0o600)\n",
        "\n",
        "!git config --global user.email {Heroku_Email}\n",
        "!git config --global user.name \"WZML-X\"\n",
        "\n",
        "print(\"Heroku Email & Password Loaded!\")"
      ],
      "metadata": {
        "id": "SoWUSMrl5FXz",
        "cellView": "form"
      },
      "execution_count": null,
      "outputs": []
    },
    {
      "cell_type": "code",
      "source": [
        "#@title <center><h3>***Create Heroku App***</h3></center><br>\n",
        "\n",
        "#@markdown ---\n",
        "App_Name = \"\" #@param {type:\"string\"}\n",
        "Server_Region = \"eu\" #@param [\"eu\", \"us\"] {allow-input: true}\n",
        "#@markdown ---\n",
        "\n",
        "!heroku create --region {Server_Region} --stack container {App_Name}"
      ],
      "metadata": {
        "cellView": "form",
        "id": "O0F5uHkJ2kzV"
      },
      "execution_count": null,
      "outputs": []
    },
    {
      "cell_type": "code",
      "source": [
        "#@title <center><h3>***MLTB Repo Config Setup***</h3></center><br>\n",
        "\n",
        "#@markdown #### ***Fill all these Variables for the `config.env`*** **(All are Mandatory)**\n",
        "\n",
        "BOT_TOKEN = \"\"  # @param {type:\"string\"}\n",
        "TELEGRAM_API = None  # @param {type:\"integer\"}\n",
        "TELEGRAM_HASH = \"\"  # @param {type:\"string\"}\n",
        "OWNER_ID = None  # @param {type:\"integer\"}\n",
        "UPSTREAM_REPO = \"https://github.com/BalaPriyan/HK-MLTB\"  # @param {type:\"string\"}\n",
        "UPSTREAM_BRANCH = \"master\"  # @param {type:\"string\"}\n",
        "DATABASE_URL = \"\"  # @param {type:\"string\"}\n",
        "BASE_URL = \"\"  # @param {type:\"string\"}\n",
        "TORRENT_TIMEOUT = 0\n",
        "\n",
        "#@markdown ---\n",
        "\n",
        "CONF_GIST_URL = \"\" # @param {type:\"string\"}\n",
        "#@markdown <h6><i>(If you want to Upload `config.env` via `gist.github.com`, Provide the gist URL, Always make Private gist)</i></h6>\n",
        "\n",
        "#@markdown ---\n",
        "\n",
        "Upload_Config = False # @param {type:\"boolean\"}\n",
        "#@markdown <h6><i>(If you want to Upload `config.env` file Externally, Tick the Above CheckBox)</i></h6>\n",
        "\n",
        "\n",
        "\n",
        "if not Upload_Config and not CONF_GIST_URL and not all([BOT_TOKEN, TELEGRAM_API, TELEGRAM_HASH, OWNER_ID, UPSTREAM_REPO, DATABASE_URL, BASE_URL]):\n",
        "    raise ValueError(\"Please fill in all Mandatory Variables.\")\n",
        "\n",
        "!git clone https://github.com/BalaPriyan/HK-MLTB\n",
        "%cd HK-MLTB\n",
        "\n",
        "if Upload_Config:\n",
        "    from google.colab import files\n",
        "    config_creds = list(files.upload().values())[0]\n",
        "    with open(\"config.env\", \"wb\") as config_file:\n",
        "        config_file.write(config_creds)\n",
        "    print(\"config.env File Uploaded and Saved Successfully\")\n",
        "elif CONF_GIST_URL:\n",
        "    !curl -o \"config.env\" $CONF_GIST_URL\n",
        "    print(\"config.env File Extracted and Saved Successfully\")\n",
        "elif all([BOT_TOKEN, TELEGRAM_API, TELEGRAM_HASH, OWNER_ID, UPSTREAM_REPO, DATABASE_URL, BASE_URL]):\n",
        "    config_creds = f'BOT_TOKEN = \"{BOT_TOKEN}\"\\n' \\\n",
        "                   f'TELEGRAM_API = \"{TELEGRAM_API}\"\\n' \\\n",
        "                   f'TELEGRAM_HASH = \"{TELEGRAM_HASH}\"\\n' \\\n",
        "                   f'OWNER_ID = \"{OWNER_ID}\"\\n' \\\n",
        "                   f'UPSTREAM_REPO = \"{UPSTREAM_REPO}\"\\n' \\\n",
        "                   f'UPSTREAM_BRANCH = \"{UPSTREAM_BRANCH}\"\\n' \\\n",
        "                   f'DATABASE_URL = \"{DATABASE_URL}\"\\n' \\\n",
        "                   f'BASE_URL = \"{BASE_URL}\"\\n' \\\n",
        "                   f'TORRENT_TIMEOUT = \"{TORRENT_TIMEOUT}\"\\n'\n",
        "\n",
        "    with open(\"config.env\", \"wb\") as config_file:\n",
        "        config_file.write(config_creds.encode())\n",
        "    print(\"config.env File made and Saved Successfully\")"
      ],
      "metadata": {
        "id": "NDpKCpuD2xjE",
        "cellView": "form"
      },
      "execution_count": null,
      "outputs": []
    },
    {
      "cell_type": "code",
      "source": [
        "# @title <center><h3>***Deploy Heroku App***</h3></center><br>\n",
        "\n",
        "#@markdown ---\n",
        "App_Name = \"\" #@param {type:\"string\"}\n",
        "#@markdown ---\n",
        "\n",
        "!git add . -f\n",
        "!git commit -m \"HK Setup\"\n",
        "!heroku git:remote -a {App_Name}\n",
        "!heroku stack:set container\n",
        "!git push heroku main -f"
      ],
      "metadata": {
        "id": "NDbOYtC0ADR5",
        "cellView": "form"
      },
      "execution_count": null,
      "outputs": []
    },
    {
      "cell_type": "code",
      "source": [
        "# @title <center><h3>***Show Heroku App Logs***</h3></center><br>\n",
        "\n",
        "#@markdown ---\n",
        "App_Name = \"\" #@param {type:\"string\"}\n",
        "#@markdown ---\n",
        "\n",
        "!heroku logs -a {App_Name}"
      ],
      "metadata": {
        "cellView": "form",
        "id": "uLHCOrkZgYbG"
      },
      "execution_count": null,
      "outputs": []
    },
    {
      "cell_type": "code",
      "source": [
        "#@title <center><h3>***Heroku Logout***</h3></center><br>\n",
        "\n",
        "!heroku logout"
      ],
      "metadata": {
        "id": "jHhWiD3QAVTt",
        "cellView": "form"
      },
      "execution_count": null,
      "outputs": []
    }
  ]
}